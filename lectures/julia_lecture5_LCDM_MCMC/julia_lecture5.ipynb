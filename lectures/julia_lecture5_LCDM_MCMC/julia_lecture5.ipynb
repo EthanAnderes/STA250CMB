{
 "cells": [
  {
   "cell_type": "markdown",
   "metadata": {},
   "source": [
    "# Tools helpful for running MCMC chains of LCDM parameters"
   ]
  },
  {
   "cell_type": "markdown",
   "metadata": {},
   "source": [
    "## The WMAP posterior chain"
   ]
  },
  {
   "cell_type": "markdown",
   "metadata": {},
   "source": [
    "The posterior chains from WMAP can be obtained from [here](http://lambda.gsfc.nasa.gov/product/map/dr5/parameters.cfm). There are a few chains to choose from (depending on which parameters are allowed to vary and which data sets to include in the likelihood). The following code downloads the basic LCDM chain from WMAP data alone. "
   ]
  },
  {
   "cell_type": "code",
   "execution_count": 10,
   "metadata": {
    "collapsed": false
   },
   "outputs": [],
   "source": [
    "wmap_path = \"/Users/ethananderes/Dropbox/Courses/STA250CMB/data/wmap_chain\"\n",
    "# download(\"http://lambda.gsfc.nasa.gov/data/map/dr5/dcp/chains/wmap_lcdm_wmap9_chains_v5.tar.gz\", \"wmap_lcdm_wmap9_chains_v5.tar.gz)\n",
    "# run(`gunzip wmap_lcdm_wmap9_chains_v5.tar.gz`)\n",
    "# run(`tar -xf wmap_lcdm_wmap9_chains_v5.tar --directory $wmap_path`)\n",
    "run(`rm wmap_lcdm_wmap9_chains_v5.tar`)"
   ]
  },
  {
   "cell_type": "code",
   "execution_count": 12,
   "metadata": {
    "collapsed": false
   },
   "outputs": [
    {
     "name": "stdout",
     "output_type": "stream",
     "text": [
      "1       0.117062874352432095\n",
      "2       0.108967379062375080\n",
      "3       0.109528409355401521\n",
      "4       0.101409184716838671\n",
      "5       0.104083078229435091\n",
      "6       0.107187006794221051\n",
      "7       0.112446837434475005\n",
      "8       0.107616613742339856\n",
      "9       0.111562053244599030\n",
      "10      0.111868995879391156\n"
     ]
    }
   ],
   "source": [
    "run(`head $wmap_path/omegach2`)"
   ]
  },
  {
   "cell_type": "code",
   "execution_count": 19,
   "metadata": {
    "collapsed": false
   },
   "outputs": [
    {
     "name": "stdout",
     "output_type": "stream",
     "text": [
      " 1296570 wmap_chain/omegach2\n"
     ]
    },
    {
     "data": {
      "text/plain": [
       "Void"
      ]
     },
     "execution_count": 19,
     "metadata": {},
     "output_type": "execute_result"
    }
   ],
   "source": [
    "run(`wc -l $wmap_path/omegach2`) # number of lines"
   ]
  },
  {
   "cell_type": "code",
   "execution_count": 3,
   "metadata": {
    "collapsed": false
   },
   "outputs": [
    {
     "data": {
      "text/plain": [
       "0.9689668467996834"
      ]
     },
     "execution_count": 3,
     "metadata": {},
     "output_type": "execute_result"
    }
   ],
   "source": [
    "nchain = 100_000\n",
    "omega_b_chain     = readdlm(\"wmap_chain/omegabh2\")[1:nchain,2]\n",
    "omega_cdm_chain   = readdlm(\"wmap_chain/omegach2\")[1:nchain,2]\n",
    "tau_reio_chain    = readdlm(\"wmap_chain/tau\")[1:nchain,2]\n",
    "theta_s_chain     = readdlm(\"wmap_chain/thetastar\")[1:nchain,2] \n",
    "A_s_109_chain     = readdlm(\"wmap_chain/a002\")[1:nchain,2] \n",
    "n_s_chain         = readdlm(\"wmap_chain/ns002\")[1:nchain,2] "
   ]
  },
  {
   "cell_type": "code",
   "execution_count": 5,
   "metadata": {
    "collapsed": false
   },
   "outputs": [
    {
     "data": {
      "text/plain": [
       "1×6 Array{Float64,2}:\n",
       " 0.0227485  0.117563  0.0889852  0.0103643  2.45407  0.968967"
      ]
     },
     "execution_count": 5,
     "metadata": {},
     "output_type": "execute_result"
    }
   ],
   "source": [
    "full_chain = hcat(omega_b_chain, omega_cdm_chain, tau_reio_chain, theta_s_chain, logA_s_109_chain, n_s_chain)"
   ]
  },
  {
   "cell_type": "markdown",
   "metadata": {},
   "source": [
    "## NLopt"
   ]
  },
  {
   "cell_type": "code",
   "execution_count": null,
   "metadata": {
    "collapsed": true
   },
   "outputs": [],
   "source": [
    "\n",
    "\n"
   ]
  },
  {
   "cell_type": "markdown",
   "metadata": {},
   "source": [
    "## Distributions"
   ]
  },
  {
   "cell_type": "code",
   "execution_count": null,
   "metadata": {
    "collapsed": true
   },
   "outputs": [],
   "source": []
  },
  {
   "cell_type": "markdown",
   "metadata": {},
   "source": [
    "## Planck Likelihood (lite)"
   ]
  },
  {
   "cell_type": "code",
   "execution_count": null,
   "metadata": {
    "collapsed": true
   },
   "outputs": [],
   "source": [
    "\n",
    "# --------- likelihoods\n",
    "const clik_lib = \"/Users/ethananderes/Software/planck/plc-2.0/lib/libclik.dylib\"\n",
    "const clik_dta = \"/Users/ethananderes/Software/planck/plc_2.0/hi_l/plik_lite/plik_lite_v18_TTTEEE.clik\"\n",
    "const A_planck = 1.0   # A_planck = 1.0000±0.0025.\n",
    "const clik_id  = ccall((:clik_init, clik_lib), Ptr{Void}, (Cstring, Ptr{Ptr{UInt8}}), clik_dta, C_NULL)\n",
    "function loglike(cls)\n",
    "\tclik_cls::Array{Float64,1} = vcat([cls[1:2509]; cls[5019:end]; cls[2510:5018]], A_planck)\n",
    "\treturn ccall((:clik_compute, clik_lib), Float64, (Ptr{Void}, Ptr{Float64}, Ptr{Ptr{UInt8}}), clik_id, clik_cls, C_NULL)\n",
    "end\t\n",
    "\n"
   ]
  }
 ],
 "metadata": {
  "kernelspec": {
   "display_name": "Julia 0.5.0-dev",
   "language": "julia",
   "name": "julia-0.5"
  },
  "language_info": {
   "file_extension": ".jl",
   "mimetype": "application/julia",
   "name": "julia",
   "version": "0.5.0"
  }
 },
 "nbformat": 4,
 "nbformat_minor": 0
}
